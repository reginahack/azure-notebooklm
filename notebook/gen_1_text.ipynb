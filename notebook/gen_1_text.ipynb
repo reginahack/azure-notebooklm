{
 "cells": [
  {
   "cell_type": "markdown",
   "metadata": {},
   "source": [
    "# 1. PDF to text\n",
    "\n",
    "Two readers:\n",
    "\n",
    "1. PDFReader\n",
    "2. Document Intelligence"
   ]
  },
  {
   "cell_type": "code",
   "execution_count": 1,
   "metadata": {},
   "outputs": [
    {
     "data": {
      "text/plain": [
       "True"
      ]
     },
     "execution_count": 1,
     "metadata": {},
     "output_type": "execute_result"
    }
   ],
   "source": [
    "from dotenv import load_dotenv\n",
    "load_dotenv()"
   ]
  },
  {
   "cell_type": "code",
   "execution_count": 2,
   "metadata": {},
   "outputs": [],
   "source": [
    "import tiktoken\n",
    "encoding = tiktoken.get_encoding(\"o200k_base\")\n",
    "\n",
    "def token_size(text):\n",
    "    return len(encoding.encode(text))"
   ]
  },
  {
   "cell_type": "code",
   "execution_count": 3,
   "metadata": {},
   "outputs": [],
   "source": [
    "sample_file = '../examples/KFE_paper_sample.pdf'"
   ]
  },
  {
   "cell_type": "markdown",
   "metadata": {},
   "source": [
    "## PDFReader"
   ]
  },
  {
   "cell_type": "code",
   "execution_count": 4,
   "metadata": {},
   "outputs": [
    {
     "name": "stderr",
     "output_type": "stream",
     "text": [
      "c:\\Users\\vgiraud\\Repos\\azure-notebooklm\\.venv\\Lib\\site-packages\\pypdf\\_crypt_providers\\_cryptography.py:32: CryptographyDeprecationWarning: ARC4 has been moved to cryptography.hazmat.decrepit.ciphers.algorithms.ARC4 and will be removed from cryptography.hazmat.primitives.ciphers.algorithms in 48.0.0.\n",
      "  from cryptography.hazmat.primitives.ciphers.algorithms import AES, ARC4\n"
     ]
    }
   ],
   "source": [
    "from pypdf import PdfReader"
   ]
  },
  {
   "cell_type": "code",
   "execution_count": 5,
   "metadata": {},
   "outputs": [
    {
     "data": {
      "text/plain": [
       "'KFE_paper_sample'"
      ]
     },
     "execution_count": 5,
     "metadata": {},
     "output_type": "execute_result"
    }
   ],
   "source": [
    "filename = sample_file.split('/')[-1]\n",
    "filename = filename.split('.')[0]\n",
    "filename"
   ]
  },
  {
   "cell_type": "code",
   "execution_count": 6,
   "metadata": {},
   "outputs": [],
   "source": [
    "text = \"\"\n",
    "with open(sample_file, \"rb\") as f:\n",
    "    reader = PdfReader(f)\n",
    "    text += \"\\n\\n\".join([page.extract_text() for page in reader.pages])\n",
    "\n",
    "with open(f\"{filename}_pdfreader.txt\", \"w\", encoding=\"utf-8\") as f:\n",
    "    f.write(text)"
   ]
  },
  {
   "cell_type": "code",
   "execution_count": 7,
   "metadata": {},
   "outputs": [
    {
     "name": "stdout",
     "output_type": "stream",
     "text": [
      "token size: 5430\n"
     ]
    }
   ],
   "source": [
    "print(f\"token size: {token_size(text)}\")"
   ]
  },
  {
   "cell_type": "markdown",
   "metadata": {},
   "source": [
    "## Azure AI Services - Document Intelligence\n",
    "\n",
    "Document intelligence document:\n",
    "- [Extract Layout](https://learn.microsoft.com/en-us/python/api/overview/azure/ai-documentintelligence-readme?view=azure-python-preview&preserve-view=true#extract-layout)\n",
    "- [Extract Figures from Documents](https://learn.microsoft.com/en-us/python/api/overview/azure/ai-documentintelligence-readme?view=azure-python-preview&preserve-view=true#extract-figures-from-documents)"
   ]
  },
  {
   "cell_type": "code",
   "execution_count": 8,
   "metadata": {},
   "outputs": [],
   "source": [
    "import os\n",
    "\n",
    "AZDOCINT_ENDPOINT = os.getenv(\"AZDOCINT_ENDPOINT\")\n",
    "AZDOCINT_KEY = os.getenv(\"AZDOCINT_KEY\")\n",
    "    "
   ]
  },
  {
   "cell_type": "code",
   "execution_count": 9,
   "metadata": {},
   "outputs": [],
   "source": [
    "import base64\n",
    "\n",
    "from azure.ai.documentintelligence import DocumentIntelligenceClient\n",
    "from azure.core.credentials import AzureKeyCredential\n",
    "from azure.ai.documentintelligence.models import AnalyzeOutputOption, AnalyzeResult\n",
    "\n",
    "document_analysis_client = DocumentIntelligenceClient(\n",
    "    endpoint=AZDOCINT_ENDPOINT, credential=AzureKeyCredential(AZDOCINT_KEY)\n",
    ")"
   ]
  },
  {
   "cell_type": "code",
   "execution_count": 10,
   "metadata": {},
   "outputs": [
    {
     "name": "stdout",
     "output_type": "stream",
     "text": [
      "converting `../examples/KFE_paper_sample.pdf`...\n"
     ]
    }
   ],
   "source": [
    "print(f\"converting `{sample_file}`...\")\n",
    "# document intelligence - access files locally\n",
    "with open(sample_file, \"rb\") as f:\n",
    "    analyze_request = {\n",
    "        \"base64Source\": base64.b64encode(f.read()).decode('utf-8')\n",
    "    }\n",
    "    poller = document_analysis_client.begin_analyze_document(\"prebuilt-layout\", \n",
    "        analyze_request,\n",
    "        output=[AnalyzeOutputOption.FIGURES],\n",
    "        output_content_format=\"markdown\")\n"
   ]
  },
  {
   "cell_type": "code",
   "execution_count": 11,
   "metadata": {},
   "outputs": [
    {
     "name": "stdout",
     "output_type": "stream",
     "text": [
      "token size: 6655\n"
     ]
    }
   ],
   "source": [
    "result = poller.result()\n",
    "md_content = result[\"content\"]\n",
    "print(f\"token size: {token_size(md_content)}\")"
   ]
  },
  {
   "cell_type": "code",
   "execution_count": 12,
   "metadata": {},
   "outputs": [],
   "source": [
    "with open(f\"{filename}_docint.md\", \"w\", encoding=\"utf-8\") as f:\n",
    "    f.write(md_content)"
   ]
  },
  {
   "cell_type": "markdown",
   "metadata": {},
   "source": [
    "### Extra: Save figures"
   ]
  },
  {
   "cell_type": "code",
   "execution_count": 13,
   "metadata": {},
   "outputs": [
    {
     "name": "stdout",
     "output_type": "stream",
     "text": [
      "operation_id: 3e64eeca-4539-4110-b640-2806726efd8a\n"
     ]
    }
   ],
   "source": [
    "details = poller.details\n",
    "operation_id = details['operation_id']\n",
    "print(f\"operation_id: {operation_id}\")"
   ]
  },
  {
   "cell_type": "code",
   "execution_count": 14,
   "metadata": {},
   "outputs": [
    {
     "data": {
      "text/plain": [
       "[{'id': '1.1', 'boundingRegions': [{'pageNumber': 1, 'polygon': [0.5176, 0.8314, 1.3586, 0.8313, 1.3585, 1.7936, 0.5174, 1.7936]}], 'spans': [{'offset': 75, 'length': 29}], 'elements': ['/paragraphs/1']},\n",
       " {'id': '1.2', 'boundingRegions': [{'pageNumber': 1, 'polygon': [6.944, 2.274, 7.3601, 2.274, 7.3601, 2.6827, 6.944, 2.6826]}], 'spans': [{'offset': 405, 'length': 38}], 'elements': ['/paragraphs/6']},\n",
       " {'id': '2.1', 'boundingRegions': [{'pageNumber': 2, 'polygon': [0.5763, 0.7661, 3.9334, 0.7663, 3.9337, 3.3616, 0.5766, 3.3615]}], 'spans': [{'offset': 5335, 'length': 139}], 'elements': ['/paragraphs/25', '/paragraphs/26', '/paragraphs/27', '/paragraphs/28', '/paragraphs/29'], 'caption': {'content': 'Fig. 1. Schematic of K-DEMO tokamak design [15,18,19].', 'boundingRegions': [{'pageNumber': 2, 'polygon': [0.9527, 3.4362, 3.5587, 3.437, 3.5587, 3.5755, 0.9527, 3.5747]}], 'spans': [{'offset': 5356, 'length': 54}], 'elements': ['/paragraphs/30']}},\n",
       " {'id': '2.2', 'boundingRegions': [{'pageNumber': 2, 'polygon': [4.3292, 0.7536, 7.6884, 0.7535, 7.6886, 3.3854, 4.3293, 3.3854]}], 'spans': [{'offset': 8059, 'length': 325}], 'elements': ['/paragraphs/51', '/paragraphs/52', '/paragraphs/53', '/paragraphs/54', '/paragraphs/55', '/paragraphs/56', '/paragraphs/57', '/paragraphs/58', '/paragraphs/59', '/paragraphs/60', '/paragraphs/61', '/paragraphs/62', '/paragraphs/63', '/paragraphs/64', '/paragraphs/65', '/paragraphs/66', '/paragraphs/67', '/paragraphs/68', '/paragraphs/69', '/paragraphs/70', '/paragraphs/71', '/paragraphs/72', '/paragraphs/73', '/paragraphs/74', '/paragraphs/75'], 'caption': {'content': 'Fig. 2. Neutron wall loading profile on the in- and outboard blanket (I-BB and O-BB) and divertor (DV).', 'boundingRegions': [{'pageNumber': 2, 'polygon': [4.2376, 3.5286, 7.7493, 3.5232, 7.7497, 3.7873, 4.238, 3.7928]}], 'spans': [{'offset': 8080, 'length': 103}], 'elements': ['/paragraphs/76']}},\n",
       " {'id': '2.3', 'boundingRegions': [{'pageNumber': 2, 'polygon': [4.3199, 3.9856, 7.6895, 3.986, 7.6897, 6.0503, 4.32, 6.05]}], 'spans': [{'offset': 8387, 'length': 502}], 'elements': ['/paragraphs/77', '/paragraphs/78', '/paragraphs/79', '/paragraphs/80', '/paragraphs/81', '/paragraphs/82', '/paragraphs/83', '/paragraphs/84', '/paragraphs/85', '/paragraphs/86', '/paragraphs/87', '/paragraphs/88', '/paragraphs/89', '/paragraphs/90', '/paragraphs/91', '/paragraphs/92', '/paragraphs/93', '/paragraphs/94', '/paragraphs/95', '/paragraphs/96', '/paragraphs/97', '/paragraphs/98', '/paragraphs/99', '/paragraphs/100', '/paragraphs/101', '/paragraphs/102', '/paragraphs/103', '/paragraphs/104', '/paragraphs/105'], 'caption': {'content': 'Fig. 3. Schematic of in-vessel components of breeding blanket and divertor module. 1-dimensional structure of (a) the water-cooled ceramic breeder blanket and (b) divertor module for radioactive characteristics analysis [5,6].', 'boundingRegions': [{'pageNumber': 2, 'polygon': [4.2373, 6.1153, 7.7478, 6.1135, 7.748, 6.514, 4.2375, 6.5159]}], 'spans': [{'offset': 8408, 'length': 226}], 'elements': ['/paragraphs/106']}},\n",
       " {'id': '3.1', 'boundingRegions': [{'pageNumber': 3, 'polygon': [0.5644, 0.7678, 3.9371, 0.7675, 3.9378, 3.7654, 0.5651, 3.7655]}], 'spans': [{'offset': 10553, 'length': 640}], 'elements': ['/paragraphs/114', '/paragraphs/115', '/paragraphs/116', '/paragraphs/117', '/paragraphs/118', '/paragraphs/119', '/paragraphs/120', '/paragraphs/121', '/paragraphs/122', '/paragraphs/123', '/paragraphs/124', '/paragraphs/125', '/paragraphs/126', '/paragraphs/127', '/paragraphs/128', '/paragraphs/129', '/paragraphs/130', '/paragraphs/131', '/paragraphs/132', '/paragraphs/133', '/paragraphs/134', '/paragraphs/135', '/paragraphs/136', '/paragraphs/137', '/paragraphs/138', '/paragraphs/139', '/paragraphs/140', '/paragraphs/141', '/paragraphs/142', '/paragraphs/143', '/paragraphs/144', '/paragraphs/145', '/paragraphs/146', '/paragraphs/147', '/paragraphs/148'], 'caption': {'content': 'Fig. 4. Radioactivity concentrations on the breeding blanket and the divertor under 2.2 GW fusion power of K-DEMO. A dotted blank line indicates the comparison result on a tungsten coating layer of a breeding blanket in a re- ference of Japanese DEMO study [13].', 'boundingRegions': [{'pageNumber': 3, 'polygon': [0.5012, 3.8555, 4.0139, 3.8504, 4.0147, 4.3854, 0.502, 4.3905]}], 'spans': [{'offset': 10574, 'length': 262}], 'elements': ['/paragraphs/149']}},\n",
       " {'id': '3.2', 'boundingRegions': [{'pageNumber': 3, 'polygon': [0.5662, 4.5507, 3.9114, 4.551, 3.912, 7.1016, 0.5668, 7.1012]}], 'spans': [{'offset': 11196, 'length': 628}], 'elements': ['/paragraphs/150', '/paragraphs/151', '/paragraphs/152', '/paragraphs/153', '/paragraphs/154', '/paragraphs/155', '/paragraphs/156', '/paragraphs/157', '/paragraphs/158', '/paragraphs/159', '/paragraphs/160', '/paragraphs/161', '/paragraphs/162', '/paragraphs/163', '/paragraphs/164', '/paragraphs/165', '/paragraphs/166', '/paragraphs/167', '/paragraphs/168', '/paragraphs/169', '/paragraphs/170', '/paragraphs/171', '/paragraphs/172', '/paragraphs/173', '/paragraphs/174', '/paragraphs/175', '/paragraphs/176', '/paragraphs/177', '/paragraphs/178', '/paragraphs/179', '/paragraphs/180', '/paragraphs/181', '/paragraphs/182', '/paragraphs/183', '/paragraphs/184', '/paragraphs/185', '/paragraphs/186', '/paragraphs/187', '/paragraphs/188', '/paragraphs/189', '/paragraphs/190', '/paragraphs/191', '/paragraphs/192', '/paragraphs/193', '/paragraphs/194'], 'caption': {'content': 'Fig. 5. (a) Radioactivity and low level boundaries of nuclides from the tungsten first wall in outboard breeding blanket. (b) Classification of radioactive waste and resultant disposal methods based on a Korean regulation [27-29].', 'boundingRegions': [{'pageNumber': 3, 'polygon': [0.507, 8.9081, 4.0117, 8.9053, 4.012, 9.2991, 0.5074, 9.3019]}], 'spans': [{'offset': 11217, 'length': 230}], 'elements': ['/paragraphs/206']}},\n",
       " {'id': '3.3', 'boundingRegions': [{'pageNumber': 3, 'polygon': [4.2707, 6.8113, 7.6929, 6.8111, 7.6933, 9.8636, 4.271, 9.8638]}], 'spans': [{'offset': 15011, 'length': 559}], 'elements': ['/paragraphs/212', '/paragraphs/213', '/paragraphs/214', '/paragraphs/215', '/paragraphs/216', '/paragraphs/217', '/paragraphs/218', '/paragraphs/219', '/paragraphs/220', '/paragraphs/221', '/paragraphs/222', '/paragraphs/223', '/paragraphs/224', '/paragraphs/225', '/paragraphs/226', '/paragraphs/227', '/paragraphs/228', '/paragraphs/229', '/paragraphs/230', '/paragraphs/231', '/paragraphs/232', '/paragraphs/233', '/paragraphs/234', '/paragraphs/235', '/paragraphs/236', '/paragraphs/237', '/paragraphs/238', '/paragraphs/239', '/paragraphs/240', '/paragraphs/241', '/paragraphs/242', '/paragraphs/243', '/paragraphs/244', '/paragraphs/245', '/paragraphs/246', '/paragraphs/247', '/paragraphs/248', '/paragraphs/249', '/paragraphs/250', '/paragraphs/251', '/paragraphs/252', '/paragraphs/253', '/paragraphs/254', '/paragraphs/255', '/paragraphs/256', '/paragraphs/257', '/paragraphs/258', '/paragraphs/259', '/paragraphs/260', '/paragraphs/261', '/paragraphs/262', '/paragraphs/263', '/paragraphs/264', '/paragraphs/265', '/paragraphs/266', '/paragraphs/267'], 'caption': {'content': 'Fig. 6. Decay heat of the components after the plasma shutdown. O-BB, I-BB and DV indicate the outboard breeding blanket, the inboard breeding blanket and the divertor, respectively.', 'boundingRegions': [{'pageNumber': 3, 'polygon': [4.2395, 9.9346, 7.7493, 9.9302, 7.7498, 10.3215, 4.24, 10.3259]}], 'spans': [{'offset': 15032, 'length': 182}], 'elements': ['/paragraphs/268']}},\n",
       " {'id': '4.1', 'boundingRegions': [{'pageNumber': 4, 'polygon': [0.5622, 0.7811, 3.9241, 0.7806, 3.9253, 5.4836, 0.5634, 5.4839]}], 'spans': [{'offset': 15734, 'length': 1085}], 'elements': ['/paragraphs/272', '/paragraphs/273', '/paragraphs/274', '/paragraphs/275', '/paragraphs/276', '/paragraphs/277', '/paragraphs/278', '/paragraphs/279', '/paragraphs/280', '/paragraphs/281', '/paragraphs/282', '/paragraphs/283', '/paragraphs/284', '/paragraphs/285', '/paragraphs/286', '/paragraphs/287', '/paragraphs/288', '/paragraphs/289', '/paragraphs/290', '/paragraphs/291', '/paragraphs/292', '/paragraphs/293', '/paragraphs/294', '/paragraphs/295', '/paragraphs/296', '/paragraphs/297', '/paragraphs/298', '/paragraphs/299', '/paragraphs/300', '/paragraphs/301', '/paragraphs/302', '/paragraphs/303', '/paragraphs/304', '/paragraphs/305', '/paragraphs/306', '/paragraphs/307', '/paragraphs/308', '/paragraphs/309', '/paragraphs/310', '/paragraphs/311', '/paragraphs/312', '/paragraphs/313', '/paragraphs/314', '/paragraphs/315', '/paragraphs/316', '/paragraphs/317', '/paragraphs/318', '/paragraphs/319', '/paragraphs/320', '/paragraphs/321', '/paragraphs/322', '/paragraphs/323', '/paragraphs/324', '/paragraphs/325', '/paragraphs/326', '/paragraphs/327', '/paragraphs/328', '/paragraphs/329', '/paragraphs/330', '/paragraphs/331', '/paragraphs/332', '/paragraphs/333', '/paragraphs/334', '/paragraphs/335', '/paragraphs/336', '/paragraphs/337', '/paragraphs/338', '/paragraphs/339', '/paragraphs/340', '/paragraphs/341', '/paragraphs/342', '/paragraphs/343', '/paragraphs/344', '/paragraphs/345', '/paragraphs/346', '/paragraphs/347', '/paragraphs/348', '/paragraphs/349', '/paragraphs/350', '/paragraphs/351', '/paragraphs/352', '/paragraphs/353', '/paragraphs/354'], 'caption': {'content': 'Fig. 7. (a) Local maximum temperature of a divertor module. (b) Local tem- perature of an outboard blanket located at equatorial port. The red-colored lines with solid and blank circles are the local maximum and the minimum temperature in the blanket, respectively. The black-colored bar graphs is the temperature difference in the blanket. Inset shows temperature contours in the blanket module just after the plasma shutdown (For interpretation of the re- ferences to colour in this figure legend, the reader is referred to the web version of this article).', 'boundingRegions': [{'pageNumber': 4, 'polygon': [0.5048, 5.584, 4.0127, 5.5839, 4.0127, 6.6336, 0.5048, 6.6337]}], 'spans': [{'offset': 15755, 'length': 559}], 'elements': ['/paragraphs/355']}}]"
      ]
     },
     "execution_count": 14,
     "metadata": {},
     "output_type": "execute_result"
    }
   ],
   "source": [
    "result['figures']"
   ]
  },
  {
   "cell_type": "code",
   "execution_count": 15,
   "metadata": {},
   "outputs": [],
   "source": [
    "# check if the directory exists\n",
    "if not os.path.exists(\"fig\"):\n",
    "    os.mkdir(\"fig\")"
   ]
  }
 ],
 "metadata": {
  "kernelspec": {
   "display_name": ".venv",
   "language": "python",
   "name": "python3"
  },
  "language_info": {
   "codemirror_mode": {
    "name": "ipython",
    "version": 3
   },
   "file_extension": ".py",
   "mimetype": "text/x-python",
   "name": "python",
   "nbconvert_exporter": "python",
   "pygments_lexer": "ipython3",
   "version": "3.12.8"
  }
 },
 "nbformat": 4,
 "nbformat_minor": 2
}
