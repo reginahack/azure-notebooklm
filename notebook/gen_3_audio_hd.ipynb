{
 "cells": [
  {
   "cell_type": "markdown",
   "metadata": {},
   "source": [
    "# 3. Generate Audio (HD Voice)\n",
    "\n",
    "https://learn.microsoft.com/en-us/azure/ai-services/speech-service/high-definition-voices"
   ]
  },
  {
   "cell_type": "code",
   "execution_count": 27,
   "metadata": {},
   "outputs": [
    {
     "data": {
      "text/plain": [
       "True"
      ]
     },
     "execution_count": 27,
     "metadata": {},
     "output_type": "execute_result"
    }
   ],
   "source": [
    "from dotenv import load_dotenv\n",
    "load_dotenv()"
   ]
  },
  {
   "cell_type": "code",
   "execution_count": 28,
   "metadata": {},
   "outputs": [
    {
     "data": {
      "text/plain": [
       "[{'speaker': 'Host (Alice)',\n",
       "  'text': \"Hey everyone, welcome back to Science Unplugged! I'm Jane, your host.\"},\n",
       " {'speaker': 'Host (Alice)',\n",
       "  'text': \"Today, we're cracking open the world of fusion reactors—no lab coat required!\"},\n",
       " {'speaker': 'Host (Alice)',\n",
       "  'text': 'Joining me is Dr. Beom Seok Kim from the National Fusion Research Institute.'},\n",
       " {'speaker': 'Host (Alice)',\n",
       "  'text': 'Dr. Kim, thanks for coming on. Ready for some tough questions?'},\n",
       " {'speaker': 'Guest',\n",
       "  'text': 'Absolutely, Jane. Fire away—hopefully not literally!'},\n",
       " {'speaker': 'Host (Alice)',\n",
       "  'text': \"Ha! Okay, fusion is called 'clean' nuclear energy. But is it really waste-free?\"},\n",
       " {'speaker': 'Guest',\n",
       "  'text': 'Great question. Fusion avoids the nastiest waste, but it’s not totally spotless.'},\n",
       " {'speaker': 'Host (Alice)',\n",
       "  'text': 'So, what actually gets radioactive in a fusion reactor?'},\n",
       " {'speaker': 'Guest',\n",
       "  'text': 'Mainly the parts inside the reactor—like blankets and divertors. Neutrons hit them hard.'},\n",
       " {'speaker': 'Host (Alice)',\n",
       "  'text': 'Wait, so just being inside makes them radioactive?'},\n",
       " {'speaker': 'Guest',\n",
       "  'text': 'Exactly. Those speedy neutrons slam into atoms, making some unstable—radioactive.'},\n",
       " {'speaker': 'Host (Alice)',\n",
       "  'text': 'And when you shut down the reactor, does all that radioactivity just... vanish?'},\n",
       " {'speaker': 'Guest',\n",
       "  'text': 'I wish! Even after shutdown, those atoms keep releasing energy—decay heat.'},\n",
       " {'speaker': 'Host (Alice)',\n",
       "  'text': 'Decay heat... Is that like when your oven stays hot after baking cookies?'},\n",
       " {'speaker': 'Guest',\n",
       "  'text': \"Perfect analogy! The reactor parts keep 'baking' for days, sometimes weeks.\"},\n",
       " {'speaker': 'Host (Alice)',\n",
       "  'text': 'How hot are we talking? Like, could you roast marshmallows in there?'},\n",
       " {'speaker': 'Guest',\n",
       "  'text': 'Right after shutdown, some spots hit 1300°C. That’s hotter than lava!'},\n",
       " {'speaker': 'Host (Alice)',\n",
       "  'text': \"Whoa, okay, so definitely not s'mores territory. How do you cool things down?\"},\n",
       " {'speaker': 'Guest',\n",
       "  'text': 'At first, we use active cooling—think water rushing through pipes.'},\n",
       " {'speaker': 'Guest',\n",
       "  'text': 'Later, as it cools, we switch to natural convection—just air moving heat away.'},\n",
       " {'speaker': 'Host (Alice)',\n",
       "  'text': 'How long before it’s safe to, you know, open the door?'},\n",
       " {'speaker': 'Guest',\n",
       "  'text': 'It takes at least a couple of days to drop below 200°C. Patience is key!'},\n",
       " {'speaker': 'Host (Alice)',\n",
       "  'text': 'And if you skip cooling, what’s the worst that could happen?'},\n",
       " {'speaker': 'Guest',\n",
       "  'text': 'Without cooling, you risk cracks, warping—serious damage to the plant.'},\n",
       " {'speaker': 'Host (Alice)',\n",
       "  'text': 'So, cooling isn’t just for comfort. It’s about keeping the whole place safe.'},\n",
       " {'speaker': 'Guest',\n",
       "  'text': 'Exactly. It’s a huge part of our safety planning and design.'},\n",
       " {'speaker': 'Host (Alice)',\n",
       "  'text': 'What about the waste? Where does it all go?'},\n",
       " {'speaker': 'Guest',\n",
       "  'text': 'Most fusion waste is low-level. We can usually bury it in shallow land sites.'},\n",
       " {'speaker': 'Host (Alice)',\n",
       "  'text': 'That sounds way less scary than traditional nuclear waste.'},\n",
       " {'speaker': 'Guest',\n",
       "  'text': 'It is. Plus, we track long-lived isotopes to make sure it stays safe.'},\n",
       " {'speaker': 'Host (Alice)',\n",
       "  'text': 'Can you recycle any of these radioactive parts?'},\n",
       " {'speaker': 'Guest',\n",
       "  'text': 'We’re working on it! Recycling and reusing materials is a big focus now.'},\n",
       " {'speaker': 'Host (Alice)',\n",
       "  'text': 'It sounds like a juggling act—safety, efficiency, and the environment.'},\n",
       " {'speaker': 'Guest',\n",
       "  'text': 'You nailed it. Every choice impacts safety, cost, and our planet.'},\n",
       " {'speaker': 'Host (Alice)',\n",
       "  'text': 'What excites you most about the future of fusion safety?'},\n",
       " {'speaker': 'Guest',\n",
       "  'text': 'Honestly, smarter designs—better materials, better cooling. It’s getting safer every year.'},\n",
       " {'speaker': 'Host (Alice)',\n",
       "  'text': 'So, fusion isn’t just about making energy. It’s about managing what we leave behind.'},\n",
       " {'speaker': 'Guest',\n",
       "  'text': 'Exactly. Responsible waste and heat management are key for fusion’s future.'},\n",
       " {'speaker': 'Host (Alice)',\n",
       "  'text': 'Dr. Kim, this was eye-opening. Thanks for making fusion a little less mysterious!'},\n",
       " {'speaker': 'Host (Alice)',\n",
       "  'text': \"And listeners, next time you hear 'clean energy,' remember the science behind the scenes.\"},\n",
       " {'speaker': 'Host (Alice)',\n",
       "  'text': 'Thanks for tuning in to Science Unplugged. Stay curious, and see you next time!'}]"
      ]
     },
     "execution_count": 28,
     "metadata": {},
     "output_type": "execute_result"
    }
   ],
   "source": [
    "import json\n",
    "\n",
    "with open(\"KFE_paper_sample_conversation.json\", \"r\", encoding=\"utf-8\") as f:\n",
    "    jsfile = f.read()\n",
    "\n",
    "conversation = json.loads(jsfile)\n",
    "conversation"
   ]
  },
  {
   "cell_type": "markdown",
   "metadata": {},
   "source": [
    "## HD Options\n",
    "\n",
    "Default [temperature parameter](https://learn.microsoft.com/en-us/azure/ai-services/speech-service/high-definition-voices#how-to-use-azure-ai-speech-hd-voices) is 1.0"
   ]
  },
  {
   "cell_type": "code",
   "execution_count": 41,
   "metadata": {},
   "outputs": [],
   "source": [
    "def generate_ssml(host_voice, guest_voice, temperature=1.0):\n",
    "    \n",
    "    ssml = \"<speak version='1.0' xmlns='http://www.w3.org/2001/10/synthesis' xmlns:mstts='https://www.w3.org/2001/mstts' xml:lang='en-US'>\"\n",
    "    for r in conversation:\n",
    "        #print(row.to_dict())\n",
    "        \n",
    "        if r['speaker'] == 'Host (Alice)':\n",
    "            ssml += f\"\\n<voice name='{host_voice}' parameters='temperature={temperature}'>{r['text']}</voice>\"\n",
    "        else:\n",
    "            ssml += f\"\\n<voice name='{guest_voice}' parameters='temperature={temperature}'>{r['text']}</voice>\"\n",
    "    ssml += \"\\n</speak>\"\n",
    "\n",
    "    #print(ssml)\n",
    "\n",
    "    return ssml"
   ]
  },
  {
   "cell_type": "code",
   "execution_count": 42,
   "metadata": {},
   "outputs": [],
   "source": [
    "import azure.cognitiveservices.speech as speechsdk\n",
    "import os\n",
    "speech_key = os.getenv('SPEECH_KEY')\n",
    "service_region = os.getenv('SPEECH_REGION')\n",
    "\n",
    "speech_config = speechsdk.SpeechConfig(subscription=speech_key, region=service_region)\n",
    "speech_config.set_property(speechsdk.PropertyId.Speech_LogFilename, \"logs\")"
   ]
  },
  {
   "cell_type": "code",
   "execution_count": 43,
   "metadata": {},
   "outputs": [],
   "source": [
    "import random\n",
    "import string\n",
    "\n",
    "def generate_random_filename(length=8):\n",
    "    letters = string.ascii_lowercase\n",
    "    return ''.join(random.choice(letters) for i in range(length))\n",
    "\n",
    "def generate_podcast(ssml, filename=None):\n",
    "    if filename is None:\n",
    "        temporary_file= \"./\" + generate_random_filename() + \".wav\"\n",
    "    else:\n",
    "        temporary_file = filename\n",
    "        \n",
    "    audio_output = speechsdk.audio.AudioOutputConfig(filename=temporary_file)\n",
    "\n",
    "    # Creates a speech synthesizer using the Azure Speech Service.\n",
    "    speech_synthesizer = speechsdk.SpeechSynthesizer(speech_config=speech_config, audio_config=audio_output)\n",
    "    result = speech_synthesizer.speak_ssml_async(ssml).get()\n",
    "    if result.reason == speechsdk.ResultReason.SynthesizingAudioCompleted:\n",
    "        print(\"Speech synthesis was successful. Audio was written to '{}'\".format(temporary_file))\n",
    "    elif result.reason == speechsdk.ResultReason.Canceled:\n",
    "        cancellation_details = result.cancellation_details\n",
    "        print(\"Speech synthesis canceled: {}\".format(cancellation_details.reason))\n",
    "        if cancellation_details.reason == speechsdk.CancellationReason.Error:\n",
    "            if cancellation_details.error_details:\n",
    "                print(\"Error details: {}\".format(cancellation_details.error_details))\n",
    "        print(\"Did you update the subscription info?\")"
   ]
  },
  {
   "cell_type": "code",
   "execution_count": null,
   "metadata": {},
   "outputs": [],
   "source": [
    "# HD voice (optimized for podcasts)\n",
    "# host_voice = 'en-us-Ava3:DragonHDLatestNeural'\n",
    "# guest_voice = 'en-us-Andrew3:DragonHDLatestNeural'\n",
    "\n",
    "# HD voice (optimized for conversational content) - works best for a 2-person podcast\n",
    "host_voice = 'en-us-Emma2:DragonHDLatestNeural'\n",
    "guest_voice = 'en-us-Andrew2:DragonHDLatestNeural'\n"
   ]
  },
  {
   "cell_type": "code",
   "execution_count": 47,
   "metadata": {},
   "outputs": [
    {
     "name": "stdout",
     "output_type": "stream",
     "text": [
      "Speech synthesis was successful. Audio was written to 'KFE_paper_sample_audio_hd.wav'\n"
     ]
    }
   ],
   "source": [
    "temp = 0.9\n",
    "ssml = generate_ssml(host_voice, guest_voice, temp)\n",
    "generate_podcast(ssml, \"KFE_paper_sample_audio_hd.wav\")"
   ]
  }
 ],
 "metadata": {
  "kernelspec": {
   "display_name": ".venv",
   "language": "python",
   "name": "python3"
  },
  "language_info": {
   "codemirror_mode": {
    "name": "ipython",
    "version": 3
   },
   "file_extension": ".py",
   "mimetype": "text/x-python",
   "name": "python",
   "nbconvert_exporter": "python",
   "pygments_lexer": "ipython3",
   "version": "3.12.8"
  }
 },
 "nbformat": 4,
 "nbformat_minor": 2
}
